{
 "cells": [
  {
   "cell_type": "code",
   "execution_count": 4,
   "metadata": {},
   "outputs": [],
   "source": [
    "import pandas as pd\n",
    "import os\n",
    "import sys"
   ]
  },
  {
   "cell_type": "code",
   "execution_count": 7,
   "metadata": {},
   "outputs": [
    {
     "ename": "FileNotFoundError",
     "evalue": "[Errno 2] No such file or directory",
     "output_type": "error",
     "traceback": [
      "\u001b[0;31m---------------------------------------------------------------------------\u001b[0m",
      "\u001b[0;31mFileNotFoundError\u001b[0m                         Traceback (most recent call last)",
      "Cell \u001b[0;32mIn[7], line 1\u001b[0m\n\u001b[0;32m----> 1\u001b[0m notebooks_dir \u001b[38;5;241m=\u001b[39m \u001b[43mos\u001b[49m\u001b[38;5;241;43m.\u001b[39;49m\u001b[43mgetcwd\u001b[49m\u001b[43m(\u001b[49m\u001b[43m)\u001b[49m\n\u001b[1;32m      2\u001b[0m project_root \u001b[38;5;241m=\u001b[39m os\u001b[38;5;241m.\u001b[39mpath\u001b[38;5;241m.\u001b[39mabspath(os\u001b[38;5;241m.\u001b[39mpath\u001b[38;5;241m.\u001b[39mjoin(notebooks_dir, os\u001b[38;5;241m.\u001b[39mpardir))\n",
      "\u001b[0;31mFileNotFoundError\u001b[0m: [Errno 2] No such file or directory"
     ]
    }
   ],
   "source": [
    "notebooks_dir = os.getcwd()\n",
    "project_root = os.path.abspath(os.path.join(notebooks_dir, os.pardir))"
   ]
  },
  {
   "cell_type": "code",
   "execution_count": 6,
   "metadata": {},
   "outputs": [
    {
     "ename": "FileNotFoundError",
     "evalue": "[Errno 2] No such file or directory",
     "output_type": "error",
     "traceback": [
      "\u001b[0;31m---------------------------------------------------------------------------\u001b[0m",
      "\u001b[0;31mFileNotFoundError\u001b[0m                         Traceback (most recent call last)",
      "Cell \u001b[0;32mIn[6], line 2\u001b[0m\n\u001b[1;32m      1\u001b[0m \u001b[38;5;66;03m# Get the parent directory of the current working directory\u001b[39;00m\n\u001b[0;32m----> 2\u001b[0m parent_dir \u001b[38;5;241m=\u001b[39m os\u001b[38;5;241m.\u001b[39mpath\u001b[38;5;241m.\u001b[39mabspath(os\u001b[38;5;241m.\u001b[39mpath\u001b[38;5;241m.\u001b[39mjoin(\u001b[43mos\u001b[49m\u001b[38;5;241;43m.\u001b[39;49m\u001b[43mgetcwd\u001b[49m\u001b[43m(\u001b[49m\u001b[43m)\u001b[49m, os\u001b[38;5;241m.\u001b[39mpardir))\n\u001b[1;32m      4\u001b[0m \u001b[38;5;66;03m# Add the parent directory to sys.path\u001b[39;00m\n\u001b[1;32m      5\u001b[0m \u001b[38;5;28;01mif\u001b[39;00m parent_dir \u001b[38;5;129;01mnot\u001b[39;00m \u001b[38;5;129;01min\u001b[39;00m sys\u001b[38;5;241m.\u001b[39mpath:\n",
      "\u001b[0;31mFileNotFoundError\u001b[0m: [Errno 2] No such file or directory"
     ]
    }
   ],
   "source": [
    "# Get the parent directory of the current working directory\n",
    "parent_dir = os.path.abspath(os.path.join(os.getcwd(), os.pardir))\n",
    "\n",
    "# Add the parent directory to sys.path\n",
    "if parent_dir not in sys.path:\n",
    "    sys.path.append(parent_dir)"
   ]
  },
  {
   "cell_type": "code",
   "execution_count": null,
   "metadata": {},
   "outputs": [],
   "source": [
    "# Get the current working directory (where the notebook is located)\n",
    "current_dir = os.getcwd()\n",
    "\n",
    "# Assuming the utils folder is in the same directory as the notebook\n",
    "utils_dir = os.path.join(current_dir, 'utils')"
   ]
  },
  {
   "cell_type": "code",
   "execution_count": null,
   "metadata": {},
   "outputs": [],
   "source": [
    "# Paths\n",
    "expression_data_path = f\"{os.getcwd()}/data/data_expression\"\n",
    "upstream_data_path = (\n",
    "    f\"{os.getcwd()}/data/data_sequences_upstream/upstream_sequences.xlsx\"\n",
    ")\n",
    "merged_data_path = f\"{os.getcwd()}/data/merged_data.csv\"\n",
    "\n",
    "# Get expression data\n",
    "expression_df = get_expression_data(expression_data_path)\n",
    "\n",
    "# Get upstream data\n",
    "upstream_df = get_upstream_data(upstream_data_path)\n",
    "\n",
    "# Get merged data\n",
    "merged_df = get_merged_data(expression_df, upstream_df)\n",
    "\n",
    "# Save the merged data to a CSV file\n",
    "merged_df.to_csv(merged_data_path, index=False)\n",
    "print(f\"Merged data saved to {merged_data_path}\")"
   ]
  },
  {
   "cell_type": "code",
   "execution_count": null,
   "metadata": {},
   "outputs": [],
   "source": [
    "# Ensure consistency with the expression data\n",
    "assert (\n",
    "    len(set(upstream_df[\"csv\"]).difference(set(expression_df[\"csv\"]))) == 0\n",
    "), \"Inconsistent CSV filenames between upstream and expression data.\"\n",
    "assert (\n",
    "    len(\n",
    "        set(map(tuple, upstream_df[[\"csv\", \"region\"]].values)).difference(\n",
    "            set(map(tuple, expression_df[[\"csv\", \"region\"]].values))\n",
    "        )\n",
    "    )\n",
    "    == 0\n",
    "), \"Inconsistent 'csv' and 'region' combinations between upstream and expression data.\"\n"
   ]
  },
  {
   "cell_type": "code",
   "execution_count": null,
   "metadata": {},
   "outputs": [],
   "source": [
    "def find_conflicting_chromosomes(df: DataFrame) -> DataFrame:\n",
    "    \"\"\"\n",
    "    Find regions corresponding to the same region and species but with different chromosome values.\n",
    "\n",
    "    Args:\n",
    "    df (DataFrame): The input DataFrame with columns 'species', 'chromosome', and 'region'.\n",
    "\n",
    "    Returns:\n",
    "    DataFrame: A DataFrame containing rows where there are different 'chromosome' values\n",
    "               for the same 'species' and 'region'.\n",
    "    \"\"\"\n",
    "    # Group by 'species' and 'region', then filter groups with more than one unique 'chromosome'\n",
    "    result = df.groupby(['species', 'region']).filter(lambda x: x['chromosome'].nunique() > 1)\n",
    "    return result"
   ]
  }
 ],
 "metadata": {
  "kernelspec": {
   "display_name": "ml4rg",
   "language": "python",
   "name": "python3"
  },
  "language_info": {
   "codemirror_mode": {
    "name": "ipython",
    "version": 3
   },
   "file_extension": ".py",
   "mimetype": "text/x-python",
   "name": "python",
   "nbconvert_exporter": "python",
   "pygments_lexer": "ipython3",
   "version": "3.12.4"
  }
 },
 "nbformat": 4,
 "nbformat_minor": 2
}
