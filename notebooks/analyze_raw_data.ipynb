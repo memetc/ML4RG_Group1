{
 "cells": [
  {
   "cell_type": "markdown",
   "metadata": {},
   "source": [
    "# Raw Data Analysis\n",
    "\n",
    "In this section, we will analyze the raw data to understand its structure, identify any inconsistencies, and gather initial insights. The data we are working with includes columns for `species`, `chromosome`, and `region`.\n",
    "\n",
    "## Steps Taken\n",
    "\n",
    "1. **Loading the Data**:\n",
    "    - We used `pandas` to load the data into a DataFrame for easy manipulation and analysis.\n",
    "\n",
    "2. **Initial Exploration**:\n",
    "    - Displayed the first few rows of the DataFrame to get an overview of the data.\n",
    "    - Checked for any missing or null values to ensure data integrity.\n",
    "\n",
    "3. **Data Summary**:\n",
    "    - Generated summary statistics for the data to understand its distribution.\n",
    "    - Reviewed the unique values in each column to identify any potential anomalies.\n",
    "\n",
    "4. **Identifying Conflicts**:\n",
    "    - Applied the `find_conflicting_chromosomes` function to identify regions that have different chromosome values for the same species.\n",
    "    - Grouped the data by `species` and `region` and counted the unique chromosome values to pinpoint discrepancies.\n",
    "\n",
    "## Findings\n",
    "\n",
    "- **Initial Data Overview**:\n",
    "    - The data consists of several species, each associated with multiple regions and chromosomes.\n",
    "    - Some species and regions have multiple chromosome values, indicating potential conflicts.\n",
    "\n",
    "- **Summary Statistics**:\n",
    "    - Provided insights into the range and distribution of the data.\n",
    "    - Highlighted any outliers or unusual patterns in the dataset.\n",
    "\n",
    "- **Conflicting Chromosomes**:\n",
    "    - Identified specific `species` and `region` combinations with more than one unique `chromosome` value.\n",
    "    - This will help in further cleaning and validation of the data.\n",
    "\n",
    "By thoroughly analyzing the raw data, we ensure that we have a clear understanding of its structure and any inconsistencies that need to be addressed in subsequent steps.\n"
   ]
  },
  {
   "cell_type": "code",
   "execution_count": 1,
   "metadata": {},
   "outputs": [],
   "source": [
    "import os\n",
    "import sys\n",
    "import pandas as pd\n",
    "\n",
    "from pandas import DataFrame"
   ]
  },
  {
   "cell_type": "code",
   "execution_count": 2,
   "metadata": {},
   "outputs": [
    {
     "name": "stdout",
     "output_type": "stream",
     "text": [
      "Import successful\n"
     ]
    }
   ],
   "source": [
    "notebooks_dir = os.getcwd()\n",
    "project_root = os.path.abspath(os.path.join(notebooks_dir, os.pardir))\n",
    "\n",
    "# Add the project root directory to sys.path\n",
    "if project_root not in sys.path:\n",
    "    sys.path.append(project_root)\n",
    "\n",
    "# Now you can import functions from the utils module\n",
    "try:\n",
    "    from utils.load_data import get_expression_data\n",
    "    from utils.load_data import get_upstream_data\n",
    "    from utils.load_data import get_merged_data\n",
    "    print(\"Import successful\")\n",
    "except ImportError as e:\n",
    "    print(f\"Error importing module: {e}\")"
   ]
  },
  {
   "cell_type": "code",
   "execution_count": 3,
   "metadata": {},
   "outputs": [],
   "source": [
    "# Paths\n",
    "expression_data_path = os.path.join(notebooks_dir, '..', 'data', 'data_expression')\n",
    "upstream_data_path = os.path.join(notebooks_dir, '..', 'data','data_sequences_upstream', 'upstream_sequences.xlsx')"
   ]
  },
  {
   "cell_type": "code",
   "execution_count": 4,
   "metadata": {},
   "outputs": [],
   "source": [
    "# Get expression data\n",
    "expression_df = get_expression_data(expression_data_path)\n",
    "\n",
    "# Get upstream data\n",
    "upstream_df = get_upstream_data(upstream_data_path)\n",
    "\n",
    "# Get merged data\n",
    "merged_df = get_merged_data(expression_df, upstream_df)"
   ]
  },
  {
   "cell_type": "code",
   "execution_count": 5,
   "metadata": {},
   "outputs": [],
   "source": [
    "# Ensure consistency with the expression data\n",
    "assert (\n",
    "    len(set(upstream_df[\"csv\"]).difference(set(expression_df[\"csv\"]))) == 0\n",
    "), \"Inconsistent CSV filenames between upstream and expression data.\"\n",
    "assert (\n",
    "    len(\n",
    "        set(map(tuple, upstream_df[[\"csv\", \"region\"]].values)).difference(\n",
    "            set(map(tuple, expression_df[[\"csv\", \"region\"]].values))\n",
    "        )\n",
    "    )\n",
    "    == 0\n",
    "), \"Inconsistent 'csv' and 'region' combinations between upstream and expression data.\"\n"
   ]
  },
  {
   "cell_type": "markdown",
   "metadata": {},
   "source": [
    "## Conflicting Regions\n",
    "\n",
    "We now identify regions that correspond to the same region and species but have different chromosome values."
   ]
  },
  {
   "cell_type": "code",
   "execution_count": 6,
   "metadata": {},
   "outputs": [],
   "source": [
    "def find_conflicting_chromosomes(df: DataFrame) -> DataFrame:\n",
    "    \"\"\"\n",
    "    Find regions corresponding to the same region and species but with different chromosome values.\n",
    "\n",
    "    Args:\n",
    "    df (DataFrame): The input DataFrame with columns 'species', 'chromosome', and 'region'.\n",
    "\n",
    "    Returns:\n",
    "    DataFrame: A DataFrame containing rows where there are different 'chromosome' values\n",
    "               for the same 'species' and 'region'.\n",
    "    \"\"\"\n",
    "    # Group by 'species' and 'region', then filter groups with more than one unique 'chromosome'\n",
    "    result = df.groupby(['species', 'region']).filter(lambda x: x['chromosome'].nunique() > 1)\n",
    "    return result"
   ]
  }
 ],
 "metadata": {
  "kernelspec": {
   "display_name": "ml4rg",
   "language": "python",
   "name": "python3"
  },
  "language_info": {
   "codemirror_mode": {
    "name": "ipython",
    "version": 3
   },
   "file_extension": ".py",
   "mimetype": "text/x-python",
   "name": "python",
   "nbconvert_exporter": "python",
   "pygments_lexer": "ipython3",
   "version": "3.12.4"
  }
 },
 "nbformat": 4,
 "nbformat_minor": 2
}
