{
 "cells": [
  {
   "cell_type": "code",
   "execution_count": 20,
   "metadata": {},
   "outputs": [
    {
     "name": "stdout",
     "output_type": "stream",
     "text": [
      "The autoreload extension is already loaded. To reload it, use:\n",
      "  %reload_ext autoreload\n"
     ]
    }
   ],
   "source": [
    "import torch\n",
    "import torch.nn as nn\n",
    "import torch.nn.functional as F\n",
    "import torch.optim as optim\n",
    "import numpy as np\n",
    "import pandas as pd\n",
    "import matplotlib.pyplot as plt\n",
    "from sklearn.model_selection import train_test_split\n",
    "from sklearn.preprocessing import MultiLabelBinarizer\n",
    "from models.simple_cnn import SimpleCNN\n",
    "\n",
    "from helpers.helpers import SequenceDataset\n",
    "\n",
    "from torch.utils.data import DataLoader\n",
    "\n",
    "from ray import tune\n",
    "from ray.tune.schedulers import ASHAScheduler\n",
    "\n",
    "%load_ext autoreload\n",
    "%autoreload 2\n"
   ]
  },
  {
   "cell_type": "code",
   "execution_count": 21,
   "metadata": {},
   "outputs": [],
   "source": [
    "\n",
    "# Load the data\n",
    "def load_dataframe(data_df=None):\n",
    "    if data_df is not None:\n",
    "        return data_df\n",
    "    data_df = pd.read_csv('combined_data.csv')\n",
    "    # get mean of each stress condition\n",
    "    averages_df = data_df.copy()\n",
    "    stress_conditions = set([name.split('_')[0] for name in data_df.columns if 'TPM' in name])\n",
    "    for stress in stress_conditions:\n",
    "        stress_columns = [name for name in data_df.columns if stress+'_' in name]\n",
    "        averages_df[f'{stress}'] = np.mean([data_df[stress_columns[0]], data_df[stress_columns[1]], data_df[stress_columns[2]]], axis=0)\n",
    "\n",
    "    # Drop the columns that are not needed\n",
    "    averages_df = averages_df.drop(columns=[name for name in averages_df.columns if 'TPM' in name] + ['Chromosome','Region','Species', 'Unnamed: 0'])\n",
    "    # drop rows with missing upstream200 sequences\n",
    "    averages_df = averages_df.dropna(subset=['upstream200'])\n",
    "    # drop rows with upstream200 sequences that contain anything but A, T, C, G\n",
    "    averages_df = averages_df[averages_df['upstream200'].apply(lambda x: set(x).issubset({'A', 'T', 'C', 'G'}))]\n",
    "\n",
    "\n",
    "    mlb = MultiLabelBinarizer()\n",
    "    # map each species id to a one hot encoding\n",
    "    averages_df['Species ID'] = averages_df['Species ID'].apply(lambda x: [x])\n",
    "    averages_df['Species ID'] = mlb.fit_transform(averages_df['Species ID']).tolist()\n",
    "\n",
    "    # map each base to one hot encoding\n",
    "    base_encodings = {'A': [1,0,0,0], 'T': [0,1,0,0], 'C': [0,0,1,0], 'G': [0,0,0,1]}\n",
    "    longest_sequence = max(averages_df['upstream200'].apply(lambda x: len(x)))\n",
    "    averages_df['upstream200'] = averages_df['upstream200'].apply(lambda x: [base_encodings[base] for base in x] + [[0,0,0,0]]*(longest_sequence-len(x)))\n",
    "\n",
    "    # explode dataset to have one row per stress condition\n",
    "    averages_df['Stress'] = averages_df.apply(lambda row: [{stress:row[stress]} for stress in stress_conditions], axis=1)\n",
    "    averages_df = averages_df.drop(columns=[name for name in averages_df.columns if name in stress_conditions])\n",
    "\n",
    "    averages_df = averages_df.explode('Stress')\n",
    "    averages_df['Stress_name'] = averages_df['Stress'].apply(lambda x: list(x.keys())[0])\n",
    "    averages_df['Stress'] = averages_df['Stress'].apply(lambda x: list(x.values())[0])\n",
    "\n",
    "    # one hot encode stress names\n",
    "    averages_df['Stress_name'] = averages_df['Stress_name'].apply(lambda x: [x])\n",
    "    averages_df['Stress_name'] = mlb.fit_transform(averages_df['Stress_name']).tolist()\n",
    "\n",
    "    # drop rows with 0 stress\n",
    "    averages_df = averages_df[averages_df['Stress'] > 0]\n",
    "\n",
    "    # log values of stress conditions\n",
    "    averages_df['Stress'] = averages_df['Stress'].apply(lambda x: np.log(x+1))\n",
    "\n",
    "    data_df = averages_df\n",
    "    return averages_df\n"
   ]
  },
  {
   "cell_type": "code",
   "execution_count": 43,
   "metadata": {},
   "outputs": [],
   "source": [
    "def load_data(species_id = -1, size = -1 ,val_split = 0.2 , test_split = 0.1, data_df=None):\n",
    "    data_df = load_dataframe(data_df)\n",
    "    \n",
    "    if species_id != -1:\n",
    "        data_df = data_df[data_df['Species ID'].apply(lambda x: x[species_id] == 1)]\n",
    "    if size != -1:\n",
    "        size = int(size * 1.39)\n",
    "        data_df = data_df.sample(size)\n",
    "\n",
    "    # split the data into training and testing\n",
    "    X_train, X_test, y_train, y_test = train_test_split(data_df[['Species ID', 'Stress_name', 'upstream200']], data_df['Stress'], test_size=test_split)\n",
    "\n",
    "    # create a dataset\n",
    "    train_dataset = SequenceDataset(X_train, y_train)\n",
    "    test_dataset = SequenceDataset(X_test, y_test)\n",
    "\n",
    "    return train_dataset, test_dataset\n"
   ]
  },
  {
   "cell_type": "code",
   "execution_count": 46,
   "metadata": {},
   "outputs": [],
   "source": [
    "def train(config):\n",
    "    net = SimpleCNN(*config)\n",
    "\n",
    "    device = torch.device(\"cuda\" if torch.cuda.is_available() else \"cpu\")\n",
    "    net.to(device)\n",
    "\n",
    "    criterion = nn.MSELoss()\n",
    "    optimizer = optim.Adam(net.parameters(), lr=config['lr'])\n",
    "    \n",
    "    train_dataset, test_dataset = load_data(species_id=config['species_id'], size=config['test_size'], data_df=config['data_df'])\n",
    "    print(f\"Training on {len(train_dataset)} samples, testing on {len(test_dataset)} samples\")\n",
    "\n",
    "    train_dataset, val_dataset = train_test_split(train_dataset, test_size=0.2)\n",
    "    \n",
    "    train_loader = DataLoader(train_dataset, batch_size=config['batch_size'], shuffle=True)\n",
    "    val_loader = DataLoader(val_dataset, batch_size=config['batch_size'], shuffle=True)\n",
    "\n",
    "    train_losses = []\n",
    "    val_losses = []\n",
    "\n",
    "    for epoch in range(config['epochs']):\n",
    "        net.train()\n",
    "        running_loss = 0.0\n",
    "        for i, data in enumerate(train_loader, 0):\n",
    "            inputs, labels = data\n",
    "            inputs, labels = [i.to(device) for i in inputs], labels.to(device)\n",
    "\n",
    "            optimizer.zero_grad()\n",
    "\n",
    "            outputs = net(inputs)\n",
    "            loss = criterion(outputs, labels)\n",
    "            loss.backward()\n",
    "            optimizer.step()\n",
    "\n",
    "            running_loss += loss.cpu().detach().numpy()\n",
    "\n",
    "        train_losses.append(running_loss/len(train_loader))\n",
    "        \n",
    "        net.eval()\n",
    "        val_loss = 0.0\n",
    "        val_steps = 0\n",
    "        for i, data in enumerate(val_loader, 0):\n",
    "            inputs, labels = data\n",
    "            inputs, labels = [i.to(device) for i in inputs], labels.to(device)\n",
    "\n",
    "            outputs = net(inputs)\n",
    "            loss = criterion(outputs, labels)\n",
    "\n",
    "            val_loss += loss.cpu().detach().numpy()\n",
    "            val_steps += 1\n",
    "\n",
    "        val_losses.append(val_loss/val_steps)\n",
    "\n",
    "        print(f\"Epoch {epoch}, train loss: {running_loss/len(train_loader)} validation loss: {val_loss/len(val_loader)}\")\n",
    "\n",
    "    return net, train_losses, val_losses\n",
    "\n"
   ]
  },
  {
   "cell_type": "code",
   "execution_count": 48,
   "metadata": {},
   "outputs": [],
   "source": [
    "# plot the losses\n",
    "def plot_losses(train_losses, val_losses):\n",
    "    plt.plot(train_losses, label='Train Loss')\n",
    "    plt.plot(val_losses, label='Validation Loss')\n",
    "    plt.legend()\n",
    "    plt.show()\n",
    "\n",
    "    log_train_losses = np.log(train_losses)\n",
    "    log_val_losses = np.log(val_losses)\n",
    "    plt.plot(log_train_losses, label='Log Train Loss')\n",
    "    plt.plot(log_val_losses, label='Log Validation Loss')\n",
    "    plt.legend()\n",
    "    plt.show()\n",
    "\n"
   ]
  },
  {
   "cell_type": "code",
   "execution_count": 28,
   "metadata": {},
   "outputs": [],
   "source": [
    "data_df = load_dataframe()"
   ]
  },
  {
   "cell_type": "code",
   "execution_count": 47,
   "metadata": {},
   "outputs": [
    {
     "name": "stdout",
     "output_type": "stream",
     "text": [
      "Training on 2502 samples, testing on 278 samples\n"
     ]
    },
    {
     "name": "stderr",
     "output_type": "stream",
     "text": [
      "/home/igalutz/.local/lib/python3.10/site-packages/torch/nn/modules/loss.py:535: UserWarning: Using a target size (torch.Size([1])) that is different to the input size (torch.Size([])). This will likely lead to incorrect results due to broadcasting. Please ensure they have the same size.\n",
      "  return F.mse_loss(input, target, reduction=self.reduction)\n"
     ]
    },
    {
     "name": "stdout",
     "output_type": "stream",
     "text": [
      "Epoch 0, train loss: 12.263691382761765 validation loss: 2.1664996353020722\n",
      "Epoch 1, train loss: 2.059181827434025 validation loss: 2.159921076733144\n",
      "Epoch 2, train loss: 2.0581380442471837 validation loss: 2.1611095058226883\n",
      "Epoch 3, train loss: 2.058281383826281 validation loss: 2.151820134074683\n",
      "Epoch 4, train loss: 2.048012373400489 validation loss: 2.1621959738450056\n",
      "Epoch 5, train loss: 2.0435461262789936 validation loss: 2.1501141044541274\n",
      "Epoch 6, train loss: 2.0453068304057225 validation loss: 2.1529917770132156\n",
      "Epoch 7, train loss: 2.0395130269646287 validation loss: 2.1426095708969757\n",
      "Epoch 8, train loss: 2.0414750318114065 validation loss: 2.1634162306800424\n",
      "Epoch 9, train loss: 2.0399444472674118 validation loss: 2.136653916039263\n"
     ]
    }
   ],
   "source": [
    "config = {\n",
    "    'lr': 0.0001,\n",
    "    'batch_size': 2,\n",
    "    'epochs': 10,\n",
    "    'species_id': 2,\n",
    "    'test_size': 2000,\n",
    "    'data_df': data_df\n",
    "}\n",
    "\n",
    "net, train_losses, val_losses = train(config)\n",
    "\n"
   ]
  },
  {
   "cell_type": "code",
   "execution_count": 49,
   "metadata": {},
   "outputs": [
    {
     "data": {
      "image/png": "[encoded data removed]",
      "text/plain": [
       "<Figure size 640x480 with 1 Axes>"
      ]
     },
     "metadata": {},
     "output_type": "display_data"
    },
    {
     "data": {
      "image/png": "[encoded data removed]",
      "text/plain": [
       "<Figure size 640x480 with 1 Axes>"
      ]
     },
     "metadata": {},
     "output_type": "display_data"
    }
   ],
   "source": [
    "plot_losses(train_losses, val_losses)"
   ]
  }
 ],
 "metadata": {
  "kernelspec": {
   "display_name": "Python 3",
   "language": "python",
   "name": "python3"
  },
  "language_info": {
   "codemirror_mode": {
    "name": "ipython",
    "version": 3
   },
   "file_extension": ".py",
   "mimetype": "text/x-python",
   "name": "python",
   "nbconvert_exporter": "python",
   "pygments_lexer": "ipython3",
   "version": "3.10.12"
  }
 },
 "nbformat": 4,
 "nbformat_minor": 2
}
